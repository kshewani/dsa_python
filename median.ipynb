{
 "cells": [
  {
   "cell_type": "code",
   "execution_count": 4,
   "id": "5394562f",
   "metadata": {},
   "outputs": [],
   "source": [
    "def find_median(v):\n",
    "    v = sorted(v)\n",
    "    l = len(v)\n",
    "    mid = int(l/2)\n",
    "    if (l%2!=0):\n",
    "        return v[mid]\n",
    "    return int((v[mid-1]+v[mid])/2)"
   ]
  },
  {
   "cell_type": "code",
   "execution_count": 6,
   "id": "e074617f",
   "metadata": {},
   "outputs": [
    {
     "data": {
      "text/plain": [
       "3"
      ]
     },
     "execution_count": 6,
     "metadata": {},
     "output_type": "execute_result"
    }
   ],
   "source": [
    "median = find_median([1, 2, 3, 4, 5])\n",
    "median"
   ]
  },
  {
   "cell_type": "code",
   "execution_count": 7,
   "id": "9bc2cfaa",
   "metadata": {},
   "outputs": [
    {
     "data": {
      "text/plain": [
       "2"
      ]
     },
     "execution_count": 7,
     "metadata": {},
     "output_type": "execute_result"
    }
   ],
   "source": [
    "median = find_median([1, 2, 3, 4])\n",
    "median"
   ]
  },
  {
   "cell_type": "code",
   "execution_count": null,
   "id": "b8cfb372",
   "metadata": {},
   "outputs": [],
   "source": []
  }
 ],
 "metadata": {
  "kernelspec": {
   "display_name": "Python 3",
   "language": "python",
   "name": "python3"
  },
  "language_info": {
   "codemirror_mode": {
    "name": "ipython",
    "version": 3
   },
   "file_extension": ".py",
   "mimetype": "text/x-python",
   "name": "python",
   "nbconvert_exporter": "python",
   "pygments_lexer": "ipython3",
   "version": "3.8.8"
  }
 },
 "nbformat": 4,
 "nbformat_minor": 5
}
