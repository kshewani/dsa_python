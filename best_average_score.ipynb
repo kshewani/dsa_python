{
 "cells": [
  {
   "cell_type": "code",
   "execution_count": 1,
   "id": "ba830a00",
   "metadata": {},
   "outputs": [],
   "source": [
    "from math import floor"
   ]
  },
  {
   "cell_type": "code",
   "execution_count": 20,
   "id": "5d5f5b35",
   "metadata": {},
   "outputs": [],
   "source": [
    "def best_average_score(scores):\n",
    "    scores_dict = {} # key=name; value=(total_score, count, avg_score)\n",
    "    best_score = 0\n",
    "    best_scorer = None\n",
    "    for name, score in scores:\n",
    "        if name in scores_dict.keys():\n",
    "            scores_dict[name] = (int(scores_dict[name][0]) + int(score), # total_score\n",
    "                                 scores_dict[name][1]+ 1, # count\n",
    "                                 floor((int(scores_dict[name][0]) + int(score)) / (scores_dict[name][1]+ 1))) # avg_score\n",
    "        else:\n",
    "            scores_dict[name] = (int(score), 1, int(score))\n",
    "        # print(scores_dict)\n",
    "    \n",
    "    return (max([s[2] for s in scores_dict.values()]))"
   ]
  },
  {
   "cell_type": "code",
   "execution_count": 21,
   "id": "3aa2c6ba",
   "metadata": {},
   "outputs": [
    {
     "data": {
      "text/plain": [
       "[['Bob', '87'],\n",
       " ['Mike', '35'],\n",
       " ['Bob', '52'],\n",
       " ['Jason', '35'],\n",
       " ['Mike', '55'],\n",
       " ['Jessica', '99'],\n",
       " ['Jessica', '2']]"
      ]
     },
     "execution_count": 21,
     "metadata": {},
     "output_type": "execute_result"
    }
   ],
   "source": [
    "input = [[\"Bob\",\"87\"], [\"Mike\", \"35\"],[\"Bob\", \"52\"], [\"Jason\",\"35\"], [\"Mike\", \"55\"],[\"Jessica\", \"99\"],[\"Jessica\", \"2\"]]\n",
    "input"
   ]
  },
  {
   "cell_type": "code",
   "execution_count": 22,
   "id": "0cf90145",
   "metadata": {},
   "outputs": [
    {
     "data": {
      "text/plain": [
       "69"
      ]
     },
     "execution_count": 22,
     "metadata": {},
     "output_type": "execute_result"
    }
   ],
   "source": [
    "best_average_score(input)"
   ]
  },
  {
   "cell_type": "code",
   "execution_count": null,
   "id": "8983354e",
   "metadata": {},
   "outputs": [],
   "source": []
  }
 ],
 "metadata": {
  "kernelspec": {
   "display_name": "Python 3",
   "language": "python",
   "name": "python3"
  },
  "language_info": {
   "codemirror_mode": {
    "name": "ipython",
    "version": 3
   },
   "file_extension": ".py",
   "mimetype": "text/x-python",
   "name": "python",
   "nbconvert_exporter": "python",
   "pygments_lexer": "ipython3",
   "version": "3.8.8"
  }
 },
 "nbformat": 4,
 "nbformat_minor": 5
}
