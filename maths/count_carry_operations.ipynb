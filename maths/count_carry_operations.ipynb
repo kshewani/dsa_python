{
 "cells": [
  {
   "cell_type": "code",
   "execution_count": 9,
   "id": "b3fdcbfd",
   "metadata": {},
   "outputs": [],
   "source": [
    "def numberOfCarryOperations(a, b):\n",
    "    if a == 0 or b == 0:\n",
    "        return 0\n",
    "    carry_count = 0\n",
    "    len_a = len(str(a))\n",
    "    prev_carry = 0\n",
    "    while a > 0 or b > 0:\n",
    "        sum = prev_carry + (a%10) + b%10\n",
    "        if sum >= 10:\n",
    "            carry_count += 1\n",
    "            prev_carry = 1\n",
    "        else:\n",
    "            prev_carry = 0\n",
    "        # print('a: ', a, 'b: ', b, 'sum: ', sum, 'prev_carry: ', prev_carry, 'cc: ', carry_count)\n",
    "        a = int(a/10)\n",
    "        b = int(b/10)\n",
    "    return carry_count"
   ]
  },
  {
   "cell_type": "code",
   "execution_count": 12,
   "id": "52b6ada0",
   "metadata": {},
   "outputs": [
    {
     "name": "stdout",
     "output_type": "stream",
     "text": [
      "Carry Count:  3\n",
      "Carry Count:  0\n",
      "Carry Count:  3\n",
      "Carry Count:  0\n",
      "Carry Count:  2\n",
      "Carry Count:  0\n",
      "Carry Count:  5\n",
      "Carry Count:  5\n",
      "Carry Count:  1\n",
      "Carry Count:  1\n"
     ]
    }
   ],
   "source": [
    "print(\"Carry Count: \",numberOfCarryOperations(1234, 5678)) # 2\n",
    "print(\"Carry Count: \",numberOfCarryOperations(123, 456)) # 0\n",
    "print(\"Carry Count: \",numberOfCarryOperations(555, 555)) # 3\n",
    "print(\"Carry Count: \",numberOfCarryOperations(900, 11)) # 0\n",
    "print(\"Carry Count: \",numberOfCarryOperations(145, 55)) # 2\n",
    "print(\"Carry Count: \",numberOfCarryOperations(0, 0)) # 0\n",
    "print(\"Carry Count: \",numberOfCarryOperations(1, 99999)) # 5\n",
    "print(\"Carry Count: \",numberOfCarryOperations(999045, 1055)) # 5\n",
    "print(\"Carry Count: \",numberOfCarryOperations(101, 809)) # 1\n",
    "print(\"Carry Count: \",numberOfCarryOperations(189, 209)) # 1"
   ]
  },
  {
   "cell_type": "code",
   "execution_count": null,
   "id": "476bfefe",
   "metadata": {},
   "outputs": [],
   "source": []
  }
 ],
 "metadata": {
  "kernelspec": {
   "display_name": "Python 3",
   "language": "python",
   "name": "python3"
  },
  "language_info": {
   "codemirror_mode": {
    "name": "ipython",
    "version": 3
   },
   "file_extension": ".py",
   "mimetype": "text/x-python",
   "name": "python",
   "nbconvert_exporter": "python",
   "pygments_lexer": "ipython3",
   "version": "3.8.8"
  }
 },
 "nbformat": 4,
 "nbformat_minor": 5
}
